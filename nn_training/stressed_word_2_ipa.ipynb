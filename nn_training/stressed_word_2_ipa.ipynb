{
 "cells": [
  {
   "cell_type": "markdown",
   "metadata": {
    "id": "_QZaBsD1zADN"
   },
   "source": [
    "#import"
   ]
  },
  {
   "cell_type": "code",
   "execution_count": 44,
   "metadata": {
    "executionInfo": {
     "elapsed": 3902,
     "status": "ok",
     "timestamp": 1654105372419,
     "user": {
      "displayName": "Eugene Fedorovpro",
      "userId": "13090594731593342861"
     },
     "user_tz": -180
    },
    "id": "pxlx7er7F9SH"
   },
   "outputs": [],
   "source": [
    "from ipapy import UNICODE_TO_IPA\n",
    "from ipapy import is_valid_ipa\n",
    "from ipapy.ipachar import IPAConsonant\n",
    "from ipapy.ipachar import IPAVowel\n",
    "from ipapy.ipastring import IPAString\n",
    "\n",
    "from pathlib import Path\n",
    "import pandas as pd\n",
    "import re\n",
    "import inspect\n",
    "import numpy as np\n",
    "import random\n",
    "import pickle\n",
    "\n",
    "\n",
    "import tensorflow as tf\n",
    "from tensorflow.keras.models import load_model\n",
    "from tensorflow import keras\n",
    "from tensorflow.keras import layers\n",
    "\n",
    "from keras.models import Sequential\n",
    "from keras.layers import Dense, Activation, Dropout, TimeDistributed\n",
    "from keras.callbacks import ModelCheckpoint\n",
    "from keras.layers import GRU, LSTM, Input, Dense, TimeDistributed, Activation, RepeatVector, Bidirectional, Dropout, LSTM\n",
    "from keras.layers import Embedding\n"
   ]
  },
  {
   "cell_type": "code",
   "execution_count": 7,
   "metadata": {},
   "outputs": [],
   "source": [
    "from wiktionary_rus.wiktionary import wiki_instances, find_item_from_wiki"
   ]
  },
  {
   "cell_type": "code",
   "execution_count": 8,
   "metadata": {},
   "outputs": [
    {
     "data": {
      "text/plain": [
       "{'word': 'бёрдо',\n",
       " 'word_lowcase': 'бёрдо',\n",
       " 'stem': \"бё'рдо\",\n",
       " 'pos': 'noun',\n",
       " 'grammeme': ['accusative', 'nominative', 'singular'],\n",
       " 'meanings': [['comb, reed (in a loom)']],\n",
       " 'accent': \"бё'рдо\",\n",
       " 'sounds': 'ˈbʲɵrdə',\n",
       " 'status': True,\n",
       " 'ipa': bilabial consonant palatalized plosive voiced\n",
       " central close-mid rounded vowel\n",
       " alveolar consonant trill voiced\n",
       " alveolar consonant plosive voiced\n",
       " central mid unrounded vowel,\n",
       " 'npipa': array([ 3., 78., 39.,  6., 71.], dtype=float32),\n",
       " 'intipa': [3, 78, 39, 6, 71]}"
      ]
     },
     "execution_count": 8,
     "metadata": {},
     "output_type": "execute_result"
    }
   ],
   "source": [
    "vars(wiki_instances[0])"
   ]
  },
  {
   "cell_type": "markdown",
   "metadata": {
    "id": "CfVq7O_7_Y6j"
   },
   "source": [
    "#SelectWords"
   ]
  },
  {
   "cell_type": "code",
   "execution_count": 10,
   "metadata": {
    "executionInfo": {
     "elapsed": 9,
     "status": "ok",
     "timestamp": 1654105381362,
     "user": {
      "displayName": "Eugene Fedorovpro",
      "userId": "13090594731593342861"
     },
     "user_tz": -180
    },
    "id": "1mM5CWFP3gw5"
   },
   "outputs": [],
   "source": [
    "class SelectWords():\n",
    "  @classmethod\n",
    "  def set_all_attributes_to_false(cls):\n",
    "    for item in wiki_instances:\n",
    "      setattr(item, \"status\", False)\n",
    "  \n",
    "  @classmethod\n",
    "  def get_number_of_items_with_true_status(cls):\n",
    "    number_of_items_with_true_status = len([1 for item in wiki_instances if item.status])\n",
    "    return number_of_items_with_true_status\n",
    "\n",
    "\n",
    "  @classmethod  \n",
    "  def select_stressed_items_for_nn(cls):\n",
    "    cls.set_all_attributes_to_false()\n",
    "    pat_only_simple_words =  re.compile(\"[^а-я|А-Я|ё|Ё|'|-]\")\n",
    "    ipa_characters_to_remove = [UNICODE_TO_IPA[u\"ɣ\"], \n",
    "                                UNICODE_TO_IPA[u\"‿\"],\n",
    "                                UNICODE_TO_IPA[u'|'],\n",
    "                                UNICODE_TO_IPA[u'ǀ'],\n",
    "                                UNICODE_TO_IPA[u\"ɖ͡ʐ\"],\n",
    "                                UNICODE_TO_IPA[u\"ɑ\"],\n",
    "                                UNICODE_TO_IPA[u\".\"],\n",
    "                                UNICODE_TO_IPA[u\"ʑ\"],\n",
    "                                UNICODE_TO_IPA[u\"ˌ\"],\n",
    "                                UNICODE_TO_IPA[u\"ʔ\"],\n",
    "                                UNICODE_TO_IPA[u\"ʕ\"],\n",
    "                                #UNICODE_TO_IPA[u\" \"],\n",
    "                                UNICODE_TO_IPA[u\"m̥\"],\n",
    "                                UNICODE_TO_IPA[u'̩'],\n",
    "                                UNICODE_TO_IPA[u\"ː\"]]\n",
    "    pos_to_remain = (\"noun\", \"verb\", \"adj\", \"name\", \"adv\", \n",
    "                    \"num\", \"pron\", \"intj\", \"prep\", \"conj\", \n",
    "                    \"particle\", \"det\", \"ambiposition\") \n",
    "    \n",
    "\n",
    "    stressed_items_for_nn = len([setattr(item, \"status\", True) for item in wiki_instances \n",
    "                            if item.sounds \n",
    "                            and item.accent\n",
    "                            and re.search(pat_only_simple_words, item.accent) == None\n",
    "                            and item.pos in pos_to_remain \n",
    "                            and item.word not in [\"лахмаджун\", \"МГУ\", \"тпру\"]\n",
    "                            and set(ipa_characters_to_remove) & set(IPAString(unicode_string = item.sounds)) == set()])\n",
    "\n",
    "\n",
    "    return stressed_items_for_nn\n",
    "\n",
    "  @classmethod\n",
    "  def get_rand_words_with_true_status(cls, n_of_words_to_show =10):\n",
    "    rand_words_with_true_status = [item.accent for item in wiki_instances if item.status]\n",
    "    rand_numbers = [random.randint(0, cls.get_number_of_items_with_true_status()) \\\n",
    "                    for i in range(n_of_words_to_show)]\n",
    "    rand_words_with_true_status = [item.accent for i, item in enumerate(wiki_instances) \\\n",
    "                                  if i in rand_numbers and item.status\n",
    "                                  ]\n",
    "    return rand_words_with_true_status\n"
   ]
  },
  {
   "cell_type": "code",
   "execution_count": 11,
   "metadata": {
    "colab": {
     "base_uri": "https://localhost:8080/"
    },
    "executionInfo": {
     "elapsed": 19837,
     "status": "ok",
     "timestamp": 1654105401190,
     "user": {
      "displayName": "Eugene Fedorovpro",
      "userId": "13090594731593342861"
     },
     "user_tz": -180
    },
    "id": "16532C223g2p",
    "outputId": "e315900b-0de3-4ee6-f3c7-0c4453da57bf"
   },
   "outputs": [
    {
     "data": {
      "text/plain": [
       "396999"
      ]
     },
     "execution_count": 11,
     "metadata": {},
     "output_type": "execute_result"
    }
   ],
   "source": [
    "SelectWords.select_stressed_items_for_nn()"
   ]
  },
  {
   "cell_type": "code",
   "execution_count": 12,
   "metadata": {
    "colab": {
     "base_uri": "https://localhost:8080/"
    },
    "executionInfo": {
     "elapsed": 685,
     "status": "ok",
     "timestamp": 1654105401867,
     "user": {
      "displayName": "Eugene Fedorovpro",
      "userId": "13090594731593342861"
     },
     "user_tz": -180
    },
    "id": "XwJJiXe23g7o",
    "outputId": "dbcad283-1eb4-4903-9e03-e56f1daa3f00"
   },
   "outputs": [
    {
     "data": {
      "text/plain": [
       "[\"благода'рный\", \"дио'дам\", \"вними'те\", \"при'быльностям\", \"хва'литесь\"]"
      ]
     },
     "execution_count": 12,
     "metadata": {},
     "output_type": "execute_result"
    }
   ],
   "source": [
    "SelectWords.get_rand_words_with_true_status(5)"
   ]
  },
  {
   "cell_type": "markdown",
   "metadata": {
    "id": "4BpVffCDCuvb"
   },
   "source": [
    "#SelectWordByLength"
   ]
  },
  {
   "cell_type": "code",
   "execution_count": 13,
   "metadata": {
    "executionInfo": {
     "elapsed": 2,
     "status": "ok",
     "timestamp": 1654105401867,
     "user": {
      "displayName": "Eugene Fedorovpro",
      "userId": "13090594731593342861"
     },
     "user_tz": -180
    },
    "id": "QOuCsVB8_Twl"
   },
   "outputs": [],
   "source": [
    "#class embracing functions demanded for unselecting words with lengths, \n",
    "#which have low grequency of occurance in Dictionary\n",
    "\n",
    "class WordsSelectionByLengths():\n",
    "\n",
    "  #get df with words' lengths\n",
    "  @classmethod\n",
    "  def get_df_words_lengths(cls):\n",
    "    number_of_true_items = SelectWords.get_number_of_items_with_true_status()\n",
    "    list_lengths_of_words = [len(item.accent) for item in wiki_instances if item.status]\n",
    "    series_lengths_of_words = pd.Series(list_lengths_of_words).value_counts()\n",
    "    pd_lengths_of_words = pd.DataFrame({\"freq\":series_lengths_of_words})\n",
    "    pd_lengths_of_words = pd_lengths_of_words.reset_index()\n",
    "    pd_lengths_of_words = pd_lengths_of_words.rename(columns = {\"index\": \"lengths\"})\n",
    "    pd_lengths_of_words = pd_lengths_of_words.sort_values(by = \"freq\", ascending = True)\n",
    "    pd_lengths_of_words[\"percent\"] = list(map(lambda x: x/number_of_true_items, \n",
    "                                              list(pd_lengths_of_words[\"freq\"])))\n",
    "    return pd_lengths_of_words\n",
    "\n",
    "  #selecting for nn only words with length, \n",
    "  #share of which is above a defined threshold (0.01) in the total amount of words\n",
    "  @classmethod\n",
    "  def get_list_of_most_frequent_lengths(cls, threshold_persent = 0):\n",
    "    pd_lengths_of_words = cls.get_df_words_lengths()\n",
    "    pd_selected = pd_lengths_of_words[pd_lengths_of_words[\"percent\"] >= threshold_persent]\n",
    "    list_of_selected_lengths = list(pd_selected[\"lengths\"])\n",
    "    list_of_selected_lengths.sort()\n",
    "    return list_of_selected_lengths\n",
    "\n",
    "  #setting False status to words unsatisfying condition of lengths\n",
    "  @classmethod\n",
    "  def unselect_words_with_low_freq_lengths(cls, threshold_persent = 0):\n",
    "    pd_lengths_of_words = cls.get_df_words_lengths()\n",
    "    list_of_selected_lengths = cls.get_list_of_most_frequent_lengths(threshold_persent)\n",
    "    n_of_changes = len([setattr(item, \"status\", False) for item in wiki_instances if\n",
    "                      item.status and\n",
    "                      len(item.accent) not in list_of_selected_lengths])\n",
    "    return \"number of unselected words is\", n_of_changes"
   ]
  },
  {
   "cell_type": "code",
   "execution_count": 14,
   "metadata": {
    "colab": {
     "base_uri": "https://localhost:8080/"
    },
    "executionInfo": {
     "elapsed": 1012,
     "status": "ok",
     "timestamp": 1654105402878,
     "user": {
      "displayName": "Eugene Fedorovpro",
      "userId": "13090594731593342861"
     },
     "user_tz": -180
    },
    "id": "4k4SfNijB4lH",
    "outputId": "8d4488d7-c968-455d-c769-3bd68a1e44ee"
   },
   "outputs": [
    {
     "data": {
      "text/plain": [
       "('number of unselected words is', 0)"
      ]
     },
     "execution_count": 14,
     "metadata": {},
     "output_type": "execute_result"
    }
   ],
   "source": [
    "WordsSelectionByLengths.unselect_words_with_low_freq_lengths()"
   ]
  },
  {
   "cell_type": "markdown",
   "metadata": {
    "id": "rJjxXDYyJ6D-"
   },
   "source": [
    "#IpaProcessing"
   ]
  },
  {
   "cell_type": "code",
   "execution_count": 15,
   "metadata": {
    "executionInfo": {
     "elapsed": 2,
     "status": "ok",
     "timestamp": 1654105403160,
     "user": {
      "displayName": "Eugene Fedorovpro",
      "userId": "13090594731593342861"
     },
     "user_tz": -180
    },
    "id": "graBcblz2kZ8"
   },
   "outputs": [],
   "source": [
    "class IpaProcessing:\n",
    "  @classmethod\n",
    "  def get_unique_ipa(cls):  \n",
    "    all_signs = set()\n",
    "    for item in wiki_instances:\n",
    "        if item.status == True:\n",
    "          value = IPAString(unicode_string=item.sounds)          \n",
    "          for ch in value:\n",
    "            all_signs.add(ch)\n",
    "    list_unique_ipas = [ipa_ch for ipa_ch in list(all_signs)]\n",
    "    list_unique_unicodes = [str(ip) for ip in list_unique_ipas]\n",
    "    list_unique_unicodes.sort()\n",
    "    return list_unique_unicodes\n",
    "\n",
    "  @classmethod\n",
    "  def get_sign2number(cls):\n",
    "    sign2number = dict((UNICODE_TO_IPA[l],i) for i, l in enumerate(list_unique_unicodes, start = 1))\n",
    "    return sign2number\n",
    "  \n",
    "  @classmethod\n",
    "  def get_number2sign(cls):\n",
    "    number2sign = dict((i,UNICODE_TO_IPA[l]) for i, l in enumerate(list_unique_unicodes, start = 1))\n",
    "    return number2sign \n",
    "\n",
    "  @classmethod\n",
    "  def get_max_length_of_ipa(cls):\n",
    "    lenghts = [len(IPAString(unicode_string = item.sounds)) for item in wiki_instances \n",
    "               if item.status == True]\n",
    "    max_length_of_ipa = max(lenghts)\n",
    "    return max_length_of_ipa\n",
    "\n",
    "  @classmethod\n",
    "  #func to convert ipa string to sparse numbers padding\n",
    "  def ipa_string_to_numbers(cls, ipa_string):\n",
    "    ipa_as_numbers = []\n",
    "    trans_as_IPAString = IPAString(unicode_string = ipa_string)\n",
    "\n",
    "    for ch in trans_as_IPAString:\n",
    "      n = sign2number[ch]\n",
    "      ipa_as_numbers.append(n)\n",
    "        \n",
    "    current_length = len(ipa_as_numbers)\n",
    "    ipa_as_numbers.extend(0 for i in range(max_length_of_ipa - current_length))\n",
    "    return ipa_as_numbers\n",
    "\n",
    "\n",
    "  #func to convert all ipa to array\n",
    "  @classmethod\n",
    "  def all_ipa_to_array(cls):\n",
    "\n",
    "    #save intermediate results, including save at the end\n",
    "    checks_and_save_points = [i for i in range(10000,400000,10000)]\n",
    "\n",
    "    count = 0\n",
    "    all_ipa_as_array = np.zeros(max_length_of_ipa)\n",
    "    for i,item in enumerate(wiki_instances):\n",
    "        \n",
    "      if item.status == True:\n",
    "        ipa_as_numbers = cls.ipa_string_to_numbers(item.sounds)\n",
    "        ipa_as_numbers = np.array(ipa_as_numbers)\n",
    "\n",
    "        all_ipa_as_array = np.vstack([all_ipa_as_array, ipa_as_numbers])\n",
    "        count +=1\n",
    "\n",
    "        if count in checks_and_save_points:\n",
    "          print(\"count\", count, \" \", \"i\", i)\n",
    "          \n",
    "    all_ipa_as_array = all_ipa_as_array[1:]\n",
    "    return all_ipa_as_array"
   ]
  },
  {
   "cell_type": "code",
   "execution_count": 16,
   "metadata": {
    "colab": {
     "base_uri": "https://localhost:8080/"
    },
    "executionInfo": {
     "elapsed": 17455,
     "status": "ok",
     "timestamp": 1654105420614,
     "user": {
      "displayName": "Eugene Fedorovpro",
      "userId": "13090594731593342861"
     },
     "user_tz": -180
    },
    "id": "mYfYx-SYqHy5",
    "outputId": "15fbdfd8-423f-4db6-8a03-bba89c1eb018"
   },
   "outputs": [
    {
     "name": "stdout",
     "output_type": "stream",
     "text": [
      "[' ', 'a', 'b', 'bʲ', 'bʲː', 'bː', 'd', 'dʲ', 'dʲː', 'dː', 'd͡z', 'd͡zʲ', 'e', 'f', 'fʲ', 'fʲː', 'i', 'j', 'jː', 'k', 'kʲ', 'kʲː', 'kː', 'lʲ', 'lʲː', 'lˠ', 'lˠː', 'm', 'mʲ', 'mʲː', 'mː', 'n', 'nʲ', 'nʲː', 'nː', 'o', 'p', 'pʲ', 'pʲː', 'pː', 'r', 'rʲ', 'rʲː', 'rː', 's', 'sʲ', 'sʲː', 'sː', 't', 'tʲ', 'tʲː', 'tː', 't͡s', 't͡sʲ', 't͡sː', 't͡ɕ', 't͡ɕː', 'u', 'v', 'vʲ', 'vʲː', 'vː', 'x', 'xʲ', 'z', 'zʲ', 'zʲː', 'zː', 'æ', 'ɐ', 'ɕ', 'ɕː', 'ə', 'ɛ', 'ɡ', 'ɡʲ', 'ɡː', 'ɨ', 'ɪ', 'ɵ', 'ʂ', 'ʂː', 'ʈ͡ʂ', 'ʉ', 'ʊ', 'ʐ', 'ʐː', 'ʑː', 'ˈ']\n"
     ]
    }
   ],
   "source": [
    "list_unique_unicodes = IpaProcessing.get_unique_ipa()\n",
    "print(list_unique_unicodes)"
   ]
  },
  {
   "cell_type": "code",
   "execution_count": 17,
   "metadata": {
    "colab": {
     "base_uri": "https://localhost:8080/"
    },
    "executionInfo": {
     "elapsed": 17821,
     "status": "ok",
     "timestamp": 1654105438427,
     "user": {
      "displayName": "Eugene Fedorovpro",
      "userId": "13090594731593342861"
     },
     "user_tz": -180
    },
    "id": "6Z62Ru1eLBLL",
    "outputId": "956478a7-6546-47d6-c2e5-5d056d3413c7"
   },
   "outputs": [
    {
     "name": "stdout",
     "output_type": "stream",
     "text": [
      "89\n",
      "{suprasegmental word-break: 1, front open unrounded vowel: 2, bilabial consonant plosive voiced: 3, bilabial consonant palatalized plosive voiced: 4, bilabial consonant palatalized plosive voiced: 5, bilabial consonant plosive voiced: 6, alveolar consonant plosive voiced: 7, alveolar consonant palatalized plosive voiced: 8, alveolar consonant palatalized plosive voiced: 9, alveolar consonant plosive voiced: 10, alveolar consonant sibilant-affricate voiced: 11, alveolar consonant palatalized sibilant-affricate voiced: 12, close-mid front unrounded vowel: 13, consonant labio-dental non-sibilant-fricative voiceless: 14, consonant labio-dental non-sibilant-fricative palatalized voiceless: 15, consonant labio-dental non-sibilant-fricative palatalized voiceless: 16, close front unrounded vowel: 17, approximant consonant palatal voiced: 18, approximant consonant palatal voiced: 19, consonant plosive velar voiceless: 20, consonant palatalized plosive velar voiceless: 21, consonant palatalized plosive velar voiceless: 22, consonant plosive velar voiceless: 23, alveolar consonant lateral-approximant palatalized voiced: 24, alveolar consonant lateral-approximant palatalized voiced: 25, alveolar consonant lateral-approximant velarized voiced: 26, alveolar consonant lateral-approximant velarized voiced: 27, bilabial consonant nasal voiced: 28, bilabial consonant nasal palatalized voiced: 29, bilabial consonant nasal palatalized voiced: 30, bilabial consonant nasal voiced: 31, alveolar consonant nasal voiced: 32, alveolar consonant nasal palatalized voiced: 33, alveolar consonant nasal palatalized voiced: 34, alveolar consonant nasal voiced: 35, back close-mid rounded vowel: 36, bilabial consonant plosive voiceless: 37, bilabial consonant palatalized plosive voiceless: 38, bilabial consonant palatalized plosive voiceless: 39, bilabial consonant plosive voiceless: 40, alveolar consonant trill voiced: 41, alveolar consonant palatalized trill voiced: 42, alveolar consonant palatalized trill voiced: 43, alveolar consonant trill voiced: 44, alveolar consonant sibilant-fricative voiceless: 45, alveolar consonant palatalized sibilant-fricative voiceless: 46, alveolar consonant palatalized sibilant-fricative voiceless: 47, alveolar consonant sibilant-fricative voiceless: 48, alveolar consonant plosive voiceless: 49, alveolar consonant palatalized plosive voiceless: 50, alveolar consonant palatalized plosive voiceless: 51, alveolar consonant plosive voiceless: 52, alveolar consonant sibilant-affricate voiceless: 53, alveolar consonant palatalized sibilant-affricate voiceless: 54, alveolar consonant sibilant-affricate voiceless: 55, alveolo-palatal consonant sibilant-affricate voiceless: 56, alveolo-palatal consonant sibilant-affricate voiceless: 57, back close rounded vowel: 58, consonant labio-dental non-sibilant-fricative voiced: 59, consonant labio-dental non-sibilant-fricative palatalized voiced: 60, consonant labio-dental non-sibilant-fricative palatalized voiced: 61, consonant labio-dental non-sibilant-fricative voiced: 62, consonant non-sibilant-fricative velar voiceless: 63, consonant non-sibilant-fricative palatalized velar voiceless: 64, alveolar consonant sibilant-fricative voiced: 65, alveolar consonant palatalized sibilant-fricative voiced: 66, alveolar consonant palatalized sibilant-fricative voiced: 67, alveolar consonant sibilant-fricative voiced: 68, front near-open unrounded vowel: 69, central near-open unrounded vowel: 70, alveolo-palatal consonant sibilant-fricative voiceless: 71, alveolo-palatal consonant sibilant-fricative voiceless: 72, central mid unrounded vowel: 73, front open-mid unrounded vowel: 74, consonant plosive velar voiced: 75, consonant palatalized plosive velar voiced: 76, consonant plosive velar voiced: 77, central close unrounded vowel: 78, near-close near-front unrounded vowel: 79, central close-mid rounded vowel: 80, consonant retroflex sibilant-fricative voiceless: 81, consonant retroflex sibilant-fricative voiceless: 82, consonant retroflex sibilant-affricate voiceless: 83, central close rounded vowel: 84, near-back near-close rounded vowel: 85, consonant retroflex sibilant-fricative voiced: 86, consonant retroflex sibilant-fricative voiced: 87, alveolo-palatal consonant sibilant-fricative voiced: 88, primary-stress suprasegmental: 89}\n",
      "89\n",
      "{1: suprasegmental word-break, 2: front open unrounded vowel, 3: bilabial consonant plosive voiced, 4: bilabial consonant palatalized plosive voiced, 5: bilabial consonant palatalized plosive voiced, 6: bilabial consonant plosive voiced, 7: alveolar consonant plosive voiced, 8: alveolar consonant palatalized plosive voiced, 9: alveolar consonant palatalized plosive voiced, 10: alveolar consonant plosive voiced, 11: alveolar consonant sibilant-affricate voiced, 12: alveolar consonant palatalized sibilant-affricate voiced, 13: close-mid front unrounded vowel, 14: consonant labio-dental non-sibilant-fricative voiceless, 15: consonant labio-dental non-sibilant-fricative palatalized voiceless, 16: consonant labio-dental non-sibilant-fricative palatalized voiceless, 17: close front unrounded vowel, 18: approximant consonant palatal voiced, 19: approximant consonant palatal voiced, 20: consonant plosive velar voiceless, 21: consonant palatalized plosive velar voiceless, 22: consonant palatalized plosive velar voiceless, 23: consonant plosive velar voiceless, 24: alveolar consonant lateral-approximant palatalized voiced, 25: alveolar consonant lateral-approximant palatalized voiced, 26: alveolar consonant lateral-approximant velarized voiced, 27: alveolar consonant lateral-approximant velarized voiced, 28: bilabial consonant nasal voiced, 29: bilabial consonant nasal palatalized voiced, 30: bilabial consonant nasal palatalized voiced, 31: bilabial consonant nasal voiced, 32: alveolar consonant nasal voiced, 33: alveolar consonant nasal palatalized voiced, 34: alveolar consonant nasal palatalized voiced, 35: alveolar consonant nasal voiced, 36: back close-mid rounded vowel, 37: bilabial consonant plosive voiceless, 38: bilabial consonant palatalized plosive voiceless, 39: bilabial consonant palatalized plosive voiceless, 40: bilabial consonant plosive voiceless, 41: alveolar consonant trill voiced, 42: alveolar consonant palatalized trill voiced, 43: alveolar consonant palatalized trill voiced, 44: alveolar consonant trill voiced, 45: alveolar consonant sibilant-fricative voiceless, 46: alveolar consonant palatalized sibilant-fricative voiceless, 47: alveolar consonant palatalized sibilant-fricative voiceless, 48: alveolar consonant sibilant-fricative voiceless, 49: alveolar consonant plosive voiceless, 50: alveolar consonant palatalized plosive voiceless, 51: alveolar consonant palatalized plosive voiceless, 52: alveolar consonant plosive voiceless, 53: alveolar consonant sibilant-affricate voiceless, 54: alveolar consonant palatalized sibilant-affricate voiceless, 55: alveolar consonant sibilant-affricate voiceless, 56: alveolo-palatal consonant sibilant-affricate voiceless, 57: alveolo-palatal consonant sibilant-affricate voiceless, 58: back close rounded vowel, 59: consonant labio-dental non-sibilant-fricative voiced, 60: consonant labio-dental non-sibilant-fricative palatalized voiced, 61: consonant labio-dental non-sibilant-fricative palatalized voiced, 62: consonant labio-dental non-sibilant-fricative voiced, 63: consonant non-sibilant-fricative velar voiceless, 64: consonant non-sibilant-fricative palatalized velar voiceless, 65: alveolar consonant sibilant-fricative voiced, 66: alveolar consonant palatalized sibilant-fricative voiced, 67: alveolar consonant palatalized sibilant-fricative voiced, 68: alveolar consonant sibilant-fricative voiced, 69: front near-open unrounded vowel, 70: central near-open unrounded vowel, 71: alveolo-palatal consonant sibilant-fricative voiceless, 72: alveolo-palatal consonant sibilant-fricative voiceless, 73: central mid unrounded vowel, 74: front open-mid unrounded vowel, 75: consonant plosive velar voiced, 76: consonant palatalized plosive velar voiced, 77: consonant plosive velar voiced, 78: central close unrounded vowel, 79: near-close near-front unrounded vowel, 80: central close-mid rounded vowel, 81: consonant retroflex sibilant-fricative voiceless, 82: consonant retroflex sibilant-fricative voiceless, 83: consonant retroflex sibilant-affricate voiceless, 84: central close rounded vowel, 85: near-back near-close rounded vowel, 86: consonant retroflex sibilant-fricative voiced, 87: consonant retroflex sibilant-fricative voiced, 88: alveolo-palatal consonant sibilant-fricative voiced, 89: primary-stress suprasegmental}\n",
      "max_length_of_ipa 34\n"
     ]
    }
   ],
   "source": [
    "sign2number = IpaProcessing.get_sign2number()\n",
    "print(len(sign2number))\n",
    "print(sign2number)\n",
    "number2sign = IpaProcessing.get_number2sign() \n",
    "print(len(number2sign))\n",
    "print(number2sign)\n",
    "max_length_of_ipa = IpaProcessing.get_max_length_of_ipa()\n",
    "print(\"max_length_of_ipa\", max_length_of_ipa)"
   ]
  },
  {
   "cell_type": "code",
   "execution_count": 19,
   "metadata": {
    "colab": {
     "base_uri": "https://localhost:8080/"
    },
    "executionInfo": {
     "elapsed": 13,
     "status": "ok",
     "timestamp": 1654105438427,
     "user": {
      "displayName": "Eugene Fedorovpro",
      "userId": "13090594731593342861"
     },
     "user_tz": -180
    },
    "id": "fs68TKPxL-jf",
    "outputId": "4d67160e-a849-4746-aa18-b1b0fa66f91c"
   },
   "outputs": [
    {
     "name": "stdout",
     "output_type": "stream",
     "text": [
      "məɫɐˈko\n",
      "[28, 73, 26, 70, 89, 20, 36, 0, 0, 0, 0, 0, 0, 0, 0, 0, 0, 0, 0, 0, 0, 0, 0, 0, 0, 0, 0, 0, 0, 0, 0, 0, 0, 0]\n"
     ]
    }
   ],
   "source": [
    "ipa_string = find_item_from_wiki(\"молоко'\")[0].sounds\n",
    "print(ipa_string)\n",
    "ex_of_ipa_string_as_numbers = IpaProcessing.ipa_string_to_numbers(ipa_string)\n",
    "print(ex_of_ipa_string_as_numbers)"
   ]
  },
  {
   "cell_type": "code",
   "execution_count": 20,
   "metadata": {
    "executionInfo": {
     "elapsed": 9,
     "status": "ok",
     "timestamp": 1654105438428,
     "user": {
      "displayName": "Eugene Fedorovpro",
      "userId": "13090594731593342861"
     },
     "user_tz": -180
    },
    "id": "wIZ5-ZAaQzl4"
   },
   "outputs": [],
   "source": [
    "#time 1 hours 13 min\n",
    "#all_ipa_as_array = IpaProcessing.all_ipa_to_array()\n",
    "#print(all_ipa_as_array.shape)\n",
    "#print(all_ipa_as_array[0])"
   ]
  },
  {
   "cell_type": "code",
   "execution_count": 22,
   "metadata": {
    "executionInfo": {
     "elapsed": 17403,
     "status": "ok",
     "timestamp": 1654105455823,
     "user": {
      "displayName": "Eugene Fedorovpro",
      "userId": "13090594731593342861"
     },
     "user_tz": -180
    },
    "id": "StYT9mPxRhX7"
   },
   "outputs": [],
   "source": [
    "#transcriptions of words with accents + transcriptions without secondary accents, blank spaces\n",
    "path_all_ipa_as_array = \"all_ipa_as_array_with_accents_short.pickle\"\n",
    "\n",
    "#save\n",
    "#with open(path_all_ipa_as_array, 'wb') as f:\n",
    "  #pickle.dump(all_ipa_as_array, f)\n",
    "\n",
    "#load\n",
    "with open(path_all_ipa_as_array, \"rb\") as f:\n",
    "  all_ipa_as_array = pickle.load(f)"
   ]
  },
  {
   "cell_type": "code",
   "execution_count": 23,
   "metadata": {
    "colab": {
     "base_uri": "https://localhost:8080/"
    },
    "executionInfo": {
     "elapsed": 13,
     "status": "ok",
     "timestamp": 1654105455823,
     "user": {
      "displayName": "Eugene Fedorovpro",
      "userId": "13090594731593342861"
     },
     "user_tz": -180
    },
    "id": "OTycTHImUHo8",
    "outputId": "ef12806a-3443-4e9a-ce0f-dd013889fc02"
   },
   "outputs": [
    {
     "name": "stdout",
     "output_type": "stream",
     "text": [
      "(396999, 34)\n",
      "[89.  4. 80. 41.  7. 73.  0.  0.  0.  0.  0.  0.  0.  0.  0.  0.  0.  0.\n",
      "  0.  0.  0.  0.  0.  0.  0.  0.  0.  0.  0.  0.  0.  0.  0.  0.]\n"
     ]
    }
   ],
   "source": [
    "print(all_ipa_as_array.shape)\n",
    "print(all_ipa_as_array[0])"
   ]
  },
  {
   "cell_type": "markdown",
   "metadata": {
    "id": "mBuN_McZUIdJ"
   },
   "source": [
    "#FreqIpa"
   ]
  },
  {
   "cell_type": "code",
   "execution_count": 25,
   "metadata": {
    "executionInfo": {
     "elapsed": 10,
     "status": "ok",
     "timestamp": 1654105455824,
     "user": {
      "displayName": "Eugene Fedorovpro",
      "userId": "13090594731593342861"
     },
     "user_tz": -180
    },
    "id": "w9ogF00aULKj"
   },
   "outputs": [
    {
     "name": "stderr",
     "output_type": "stream",
     "text": [
      "C:\\Users\\eugen\\AppData\\Local\\Temp\\ipykernel_11592\\1267937334.py:35: FutureWarning: The frame.append method is deprecated and will be removed from pandas in a future version. Use pandas.concat instead.\n",
      "  freq_of_ipa_signs = freq_of_ipa_signs.append({\"numbers\": 0,\n"
     ]
    },
    {
     "data": {
      "text/html": [
       "<div>\n",
       "<style scoped>\n",
       "    .dataframe tbody tr th:only-of-type {\n",
       "        vertical-align: middle;\n",
       "    }\n",
       "\n",
       "    .dataframe tbody tr th {\n",
       "        vertical-align: top;\n",
       "    }\n",
       "\n",
       "    .dataframe thead th {\n",
       "        text-align: right;\n",
       "    }\n",
       "</style>\n",
       "<table border=\"1\" class=\"dataframe\">\n",
       "  <thead>\n",
       "    <tr style=\"text-align: right;\">\n",
       "      <th></th>\n",
       "      <th>numbers</th>\n",
       "      <th>freq</th>\n",
       "      <th>signs</th>\n",
       "      <th>percents</th>\n",
       "      <th>multiplication</th>\n",
       "    </tr>\n",
       "  </thead>\n",
       "  <tbody>\n",
       "    <tr>\n",
       "      <th>0</th>\n",
       "      <td>89</td>\n",
       "      <td>369755</td>\n",
       "      <td>ˈ</td>\n",
       "      <td>0.028</td>\n",
       "      <td>0.01206</td>\n",
       "    </tr>\n",
       "    <tr>\n",
       "      <th>1</th>\n",
       "      <td>79</td>\n",
       "      <td>331385</td>\n",
       "      <td>ɪ</td>\n",
       "      <td>0.025</td>\n",
       "      <td>0.01346</td>\n",
       "    </tr>\n",
       "    <tr>\n",
       "      <th>2</th>\n",
       "      <td>73</td>\n",
       "      <td>293264</td>\n",
       "      <td>ə</td>\n",
       "      <td>0.022</td>\n",
       "      <td>0.01521</td>\n",
       "    </tr>\n",
       "    <tr>\n",
       "      <th>3</th>\n",
       "      <td>70</td>\n",
       "      <td>187883</td>\n",
       "      <td>ɐ</td>\n",
       "      <td>0.014</td>\n",
       "      <td>0.02374</td>\n",
       "    </tr>\n",
       "    <tr>\n",
       "      <th>4</th>\n",
       "      <td>18</td>\n",
       "      <td>147770</td>\n",
       "      <td>j</td>\n",
       "      <td>0.011</td>\n",
       "      <td>0.03019</td>\n",
       "    </tr>\n",
       "    <tr>\n",
       "      <th>...</th>\n",
       "      <td>...</td>\n",
       "      <td>...</td>\n",
       "      <td>...</td>\n",
       "      <td>...</td>\n",
       "      <td>...</td>\n",
       "    </tr>\n",
       "    <tr>\n",
       "      <th>85</th>\n",
       "      <td>22</td>\n",
       "      <td>5</td>\n",
       "      <td>kʲː</td>\n",
       "      <td>0.000</td>\n",
       "      <td>892.13258</td>\n",
       "    </tr>\n",
       "    <tr>\n",
       "      <th>86</th>\n",
       "      <td>43</td>\n",
       "      <td>5</td>\n",
       "      <td>rʲː</td>\n",
       "      <td>0.000</td>\n",
       "      <td>892.13258</td>\n",
       "    </tr>\n",
       "    <tr>\n",
       "      <th>87</th>\n",
       "      <td>5</td>\n",
       "      <td>2</td>\n",
       "      <td>bʲː</td>\n",
       "      <td>0.000</td>\n",
       "      <td>2230.33146</td>\n",
       "    </tr>\n",
       "    <tr>\n",
       "      <th>88</th>\n",
       "      <td>44</td>\n",
       "      <td>1</td>\n",
       "      <td>rː</td>\n",
       "      <td>0.000</td>\n",
       "      <td>4460.66292</td>\n",
       "    </tr>\n",
       "    <tr>\n",
       "      <th>89</th>\n",
       "      <td>0</td>\n",
       "      <td>9536301</td>\n",
       "      <td>zero</td>\n",
       "      <td>0.720</td>\n",
       "      <td>0.00047</td>\n",
       "    </tr>\n",
       "  </tbody>\n",
       "</table>\n",
       "<p>90 rows × 5 columns</p>\n",
       "</div>"
      ],
      "text/plain": [
       "    numbers     freq signs  percents  multiplication\n",
       "0        89   369755     ˈ     0.028         0.01206\n",
       "1        79   331385     ɪ     0.025         0.01346\n",
       "2        73   293264     ə     0.022         0.01521\n",
       "3        70   187883     ɐ     0.014         0.02374\n",
       "4        18   147770     j     0.011         0.03019\n",
       "..      ...      ...   ...       ...             ...\n",
       "85       22        5   kʲː     0.000       892.13258\n",
       "86       43        5   rʲː     0.000       892.13258\n",
       "87        5        2   bʲː     0.000      2230.33146\n",
       "88       44        1    rː     0.000      4460.66292\n",
       "89        0  9536301  zero     0.720         0.00047\n",
       "\n",
       "[90 rows x 5 columns]"
      ]
     },
     "execution_count": 25,
     "metadata": {},
     "output_type": "execute_result"
    }
   ],
   "source": [
    "#get df: numbers(number of ipa sign) - freq(frequence of sign's occurance) -\n",
    "#signs(ipa chaacters in unicode) - persents(share of this ipa in total)\n",
    "#multiplication (the number to multiply class_weights in the model)\n",
    "def get_freq_of_ipa_signs():\n",
    "  number_of_true_items = SelectWords.get_number_of_items_with_true_status()\n",
    "  no_classes = len(sign2number)\n",
    "  table_of_all_signs_as_numbers = []\n",
    "  for i,item in enumerate(wiki_instances):\n",
    "    if item.status and i <= number_of_true_items:\n",
    "      item_as_string = IPAString(unicode_string = item.sounds)\n",
    "      for sign in item_as_string:\n",
    "        number = sign2number[sign]\n",
    "        table_of_all_signs_as_numbers.append(number)\n",
    "  table_of_all_signs_as_numbers = pd.Series(table_of_all_signs_as_numbers).value_counts(ascending=False)\n",
    "\n",
    "  #table_of_all_signs_as_numbers = pd.Series(table_of_all_signs_as_numbers)\n",
    "  freq_of_ipa_signs = pd.DataFrame(table_of_all_signs_as_numbers).reset_index()\n",
    "  freq_of_ipa_signs = freq_of_ipa_signs.rename(columns = {\"index\":\"numbers\", 0:'freq'})\n",
    "  freq_of_ipa_signs[\"numbers\"].sort_values(ascending = True)\n",
    "\n",
    "  #adding ipa signs to df\n",
    "  signs_to_df = []\n",
    "  for i in freq_of_ipa_signs[\"numbers\"]:\n",
    "    signs_to_df.append(str(number2sign[i]))\n",
    "  freq_of_ipa_signs[\"signs\"] = signs_to_df\n",
    "\n",
    "  #getting frequency of zeros from array for making class \"0\" \n",
    "  def get_freq_of_zeros():\n",
    "    freq_of_zeros = sum([np.count_nonzero(a == 0) for a in all_ipa_as_array])\n",
    "    return freq_of_zeros\n",
    "  freq_of_zeros = get_freq_of_zeros()\n",
    "\n",
    "  #adding row with freq of zeros to df\n",
    "  def add_freq_of_zeros_to_df(freq_of_ipa_signs, freq_of_zeros):\n",
    "    freq_of_ipa_signs = freq_of_ipa_signs.append({\"numbers\": 0, \n",
    "                                                  \"freq\": freq_of_zeros, \n",
    "                                                  \"signs\": \"zero\"}, ignore_index=True)\n",
    "    return freq_of_ipa_signs\n",
    "  freq_of_ipa_signs = add_freq_of_zeros_to_df(freq_of_ipa_signs, freq_of_zeros)\n",
    "\n",
    "  #getting percents\n",
    "  percents_as_map = list(map(lambda x: round(x/freq_of_ipa_signs[\"freq\"].sum(),3), freq_of_ipa_signs[\"freq\"]))\n",
    "  freq_of_ipa_signs[\"percents\"] = percents_as_map\n",
    "  \n",
    "  #getting multiplication for weights\n",
    "  mult_as_map = list(map(lambda x: round(number_of_true_items/(len(sign2number)*x), 5), freq_of_ipa_signs[\"freq\"]))\n",
    "  freq_of_ipa_signs['multiplication'] = mult_as_map\n",
    "  \n",
    "  return freq_of_ipa_signs\n",
    "\n",
    "freq_of_ipa_signs = get_freq_of_ipa_signs()\n",
    "freq_of_ipa_signs\n"
   ]
  },
  {
   "cell_type": "code",
   "execution_count": 27,
   "metadata": {
    "executionInfo": {
     "elapsed": 10,
     "status": "ok",
     "timestamp": 1654105455824,
     "user": {
      "displayName": "Eugene Fedorovpro",
      "userId": "13090594731593342861"
     },
     "user_tz": -180
    },
    "id": "jIEOJ10kUrk6"
   },
   "outputs": [
    {
     "data": {
      "text/plain": [
       "[(\"распя'тие\", 'rɐˈspʲætʲɪje', 'noun'),\n",
       " (\"запя'стье\", 'zɐˈpʲæsʲtʲje', 'noun'),\n",
       " (\"юпи'тер\", 'jʉˈpʲitʲɪr', 'name'),\n",
       " (\"лесопи'лка\", 'lʲɪsɐˈpʲiɫkə', 'noun'),\n",
       " (\"лесопи'льня\", 'lʲɪsɐˈpʲilʲnʲə', 'noun'),\n",
       " (\"лесопи'льный\", 'lʲɪsɐˈpʲilʲnɨj', 'adj'),\n",
       " (\"копе'йка\", 'kɐˈpʲejkə', 'noun'),\n",
       " (\"пенька'\", 'pʲɪnʲˈka', 'noun'),\n",
       " (\"пенька'\", 'pʲɪnʲˈka', 'noun'),\n",
       " (\"пя'ть\", 'pʲætʲ', 'num')]"
      ]
     },
     "execution_count": 27,
     "metadata": {},
     "output_type": "execute_result"
    }
   ],
   "source": [
    "#rare ipa signs to remove\n",
    "#ɣ, ‿, d͡z, ʈ͡ʂ, ɖ͡ʐ\n",
    "#\"ɑ\", \".\", \"ʑ\"  \n",
    "\n",
    "#search as ipa\n",
    "#getting instances of words with a certain ipa character\n",
    "#ɡ͡b(382), n͡m(387), k͡x(128),  d͡b(96), d͡b(386), #t͡p(385) \n",
    "\n",
    "#d͡z(119)+ ('дзюдо', 'd͡zʲzʲʊˈdo', 'noun'), alveolar consonant sibilant-affricate voiced\n",
    "#ʈ͡ʂ(99)+(('обветшаю', 'ɐbvʲɪt͡ʂˈʂajʊ', 'verb')), consonant retroflex sibilant-affricate voiceless \n",
    "#ɖ͡ʐ(100)+(('камбоджа', 'kɐmˈbod͡ʐʐə', 'name')), alveolar consonant sibilant-affricate voiced\n",
    "\n",
    "#getting instances of words with a certain ipa character\n",
    "#ipa signs to remove: \"ɑ\", \".\"(syllable-break), ʑ(вещдок), ͡ (2046)\n",
    "#ipa signs to change: ɣ-x(consonant non-sibilant-fricative velar voiced, 54)\n",
    "\n",
    "def find_word_by_freq_of_ipa_signs_number_of_row(number_of_row):\n",
    "  sign_to_find = UNICODE_TO_IPA[freq_of_ipa_signs.iloc[number_of_row,2]]\n",
    "  wb = [(item.accent, item.sounds, item.pos) for item in wiki_instances if item.status \n",
    "        and sign_to_find in IPAString(unicode_string = item.sounds)]\n",
    "  number2sign[freq_of_ipa_signs.iloc[number_of_row,0]]\n",
    "  return number2sign, wb\n",
    "\n",
    "number_of_row = 38\n",
    "find_word_by_freq_of_ipa_signs_number_of_row(number_of_row)[1][0:10]"
   ]
  },
  {
   "cell_type": "markdown",
   "metadata": {
    "id": "BW1z7rCVDyJc"
   },
   "source": [
    "#WordsProcessing"
   ]
  },
  {
   "cell_type": "code",
   "execution_count": 28,
   "metadata": {
    "executionInfo": {
     "elapsed": 10,
     "status": "ok",
     "timestamp": 1654105455824,
     "user": {
      "displayName": "Eugene Fedorovpro",
      "userId": "13090594731593342861"
     },
     "user_tz": -180
    },
    "id": "8dgY5Uv6B4pl"
   },
   "outputs": [],
   "source": [
    "class WordsProcessing():\n",
    "  @classmethod\n",
    "  def get_unique_chs_from_stressed_words(cls):\n",
    "    unique_chs_from_stressed_words = set()\n",
    "    for item in wiki_instances:\n",
    "      if item.status:\n",
    "        chs = list(item.accent)\n",
    "        unique_chs_from_stressed_words.update(chs)\n",
    "    unique_chs_from_stressed_words = list(unique_chs_from_stressed_words)\n",
    "    unique_chs_from_stressed_words.sort()\n",
    "    return unique_chs_from_stressed_words\n",
    "\n",
    "  @classmethod\n",
    "  def get_character2number_for_stressed_words(cls):\n",
    "    unique_chs = cls.get_unique_chs_from_stressed_words() \n",
    "    character2number_for_stressed_words = dict((ch,i) for i, ch in enumerate(unique_chs, start = 1))\n",
    "    return character2number_for_stressed_words\n",
    "  \n",
    "  @classmethod\n",
    "  def get_number2character_for_stressed_words(cls): \n",
    "    unique_chs = cls.get_unique_chs_from_stressed_words() \n",
    "    number2character_for_stressed_words = dict((i,ch) for i, ch in enumerate(unique_chs, start = 1))\n",
    "    return number2character_for_stressed_words \n",
    "\n",
    "  @classmethod\n",
    "  def get_max_length_of_stressed_word(cls):\n",
    "    #+1 is added as a place for accent for correct padding \n",
    "    max_length_of_stressed_word = max([len(item.word_lowcase) \\\n",
    "                                        for item in wiki_instances if item.status]) + 1\n",
    "    #ipa and word arrays should be of the same length\n",
    "    max_length_of_stressed_word = max(max_length_of_ipa, max_length_of_stressed_word) \n",
    "    return max_length_of_stressed_word\n",
    "\n",
    "\n",
    "  @classmethod\n",
    "  def word2numbers(cls, accent):\n",
    "    numbers = []\n",
    "    for ch in accent:\n",
    "      n = character2number_for_stressed_words[ch]\n",
    "      numbers.append(n)\n",
    "      \n",
    "    n_of_zeros_to_add = max_length_of_stressed_word - len(numbers) \n",
    "    numbers.extend([0 for i in range(n_of_zeros_to_add)])\n",
    "\n",
    "    return numbers\n",
    "\n",
    "\n",
    "  @classmethod\n",
    "  def all_stressed_words_to_array(cls):\n",
    "    \n",
    "    list_of_words_as_numbers = [cls.word2numbers(item.accent) \\\n",
    "                                for item in wiki_instances if item.status]\n",
    "    all_stressed_words_as_array = np.vstack(list_of_words_as_numbers)\n",
    "    return all_stressed_words_as_array"
   ]
  },
  {
   "cell_type": "code",
   "execution_count": 29,
   "metadata": {
    "colab": {
     "base_uri": "https://localhost:8080/"
    },
    "executionInfo": {
     "elapsed": 1683,
     "status": "ok",
     "timestamp": 1654105457498,
     "user": {
      "displayName": "Eugene Fedorovpro",
      "userId": "13090594731593342861"
     },
     "user_tz": -180
    },
    "id": "K0USgjzDB4tZ",
    "outputId": "64102f8e-ef86-416c-c93b-a8c6af2f5045"
   },
   "outputs": [
    {
     "name": "stdout",
     "output_type": "stream",
     "text": [
      "{\"'\": 1, '-': 2, 'а': 3, 'б': 4, 'в': 5, 'г': 6, 'д': 7, 'е': 8, 'ж': 9, 'з': 10, 'и': 11, 'й': 12, 'к': 13, 'л': 14, 'м': 15, 'н': 16, 'о': 17, 'п': 18, 'р': 19, 'с': 20, 'т': 21, 'у': 22, 'ф': 23, 'х': 24, 'ц': 25, 'ч': 26, 'ш': 27, 'щ': 28, 'ъ': 29, 'ы': 30, 'ь': 31, 'э': 32, 'ю': 33, 'я': 34, 'ё': 35}\n",
      "{\"'\": 1, '-': 2, 'а': 3, 'б': 4, 'в': 5, 'г': 6, 'д': 7, 'е': 8, 'ж': 9, 'з': 10, 'и': 11, 'й': 12, 'к': 13, 'л': 14, 'м': 15, 'н': 16, 'о': 17, 'п': 18, 'р': 19, 'с': 20, 'т': 21, 'у': 22, 'ф': 23, 'х': 24, 'ц': 25, 'ч': 26, 'ш': 27, 'щ': 28, 'ъ': 29, 'ы': 30, 'ь': 31, 'э': 32, 'ю': 33, 'я': 34, 'ё': 35}\n",
      "34\n",
      "34\n"
     ]
    }
   ],
   "source": [
    "character2number_for_stressed_words = WordsProcessing.get_character2number_for_stressed_words()\n",
    "print(character2number_for_stressed_words)\n",
    "number2character_for_stressed_words = WordsProcessing.get_number2character_for_stressed_words()\n",
    "print(character2number_for_stressed_words)\n",
    "max_length_of_stressed_word = WordsProcessing.get_max_length_of_stressed_word()\n",
    "print(max_length_of_stressed_word)\n",
    "print(max_length_of_ipa)"
   ]
  },
  {
   "cell_type": "code",
   "execution_count": 30,
   "metadata": {
    "colab": {
     "base_uri": "https://localhost:8080/"
    },
    "executionInfo": {
     "elapsed": 5988,
     "status": "ok",
     "timestamp": 1654105463485,
     "user": {
      "displayName": "Eugene Fedorovpro",
      "userId": "13090594731593342861"
     },
     "user_tz": -180
    },
    "id": "vuawrZI5jJT3",
    "outputId": "c6a47665-e078-47a9-96c8-04e0c83c29fc"
   },
   "outputs": [
    {
     "name": "stdout",
     "output_type": "stream",
     "text": [
      "(396999, 34)\n",
      "[ 4 19  8  1  7  8 16 31  0  0  0  0  0  0  0  0  0  0  0  0  0  0  0  0\n",
      "  0  0  0  0  0  0  0  0  0  0]\n"
     ]
    }
   ],
   "source": [
    "all_stressed_words_as_array = WordsProcessing.all_stressed_words_to_array()\n",
    "print(all_stressed_words_as_array.shape)\n",
    "print(all_stressed_words_as_array[10])"
   ]
  },
  {
   "cell_type": "code",
   "execution_count": 31,
   "metadata": {
    "colab": {
     "base_uri": "https://localhost:8080/"
    },
    "executionInfo": {
     "elapsed": 13,
     "status": "ok",
     "timestamp": 1654105463485,
     "user": {
      "displayName": "Eugene Fedorovpro",
      "userId": "13090594731593342861"
     },
     "user_tz": -180
    },
    "id": "0uVknfeLkqkz",
    "outputId": "e63b92b8-f018-468f-c0c5-5ad7b406f7a8"
   },
   "outputs": [
    {
     "name": "stdout",
     "output_type": "stream",
     "text": [
      "all_stressed_words_as_array (396999, 34)\n",
      "all_ipa_as_array (396999, 34)\n"
     ]
    }
   ],
   "source": [
    "print(\"all_stressed_words_as_array\", all_stressed_words_as_array.shape)\n",
    "print(\"all_ipa_as_array\", all_ipa_as_array.shape)"
   ]
  },
  {
   "cell_type": "markdown",
   "metadata": {
    "id": "an-CajuBkHpI"
   },
   "source": [
    "#Train_Test_Split"
   ]
  },
  {
   "cell_type": "code",
   "execution_count": 32,
   "metadata": {
    "colab": {
     "base_uri": "https://localhost:8080/"
    },
    "executionInfo": {
     "elapsed": 519,
     "status": "ok",
     "timestamp": 1654105463994,
     "user": {
      "displayName": "Eugene Fedorovpro",
      "userId": "13090594731593342861"
     },
     "user_tz": -180
    },
    "id": "oFliXNM3kG5w",
    "outputId": "78100e36-f1ff-4790-ac6d-373d1d3e2ea3"
   },
   "outputs": [
    {
     "name": "stdout",
     "output_type": "stream",
     "text": [
      "inputs (317442, 34)\n",
      "labels (317442, 34)\n",
      "inputs_test (79557, 34)\n",
      "labels_test (79557, 34)\n"
     ]
    }
   ],
   "source": [
    "def split_data_by_ratio(split_ratio, all_stressed_words_as_array, all_ipa_as_array):\n",
    "  np.random.seed(30)\n",
    "  number_of_items_with_true_status = SelectWords.get_number_of_items_with_true_status()\n",
    "  \n",
    "  mask = np.random.rand(number_of_items_with_true_status) < split_ratio\n",
    "  \n",
    "  inputs = all_stressed_words_as_array[mask]\n",
    "  inputs_test = all_stressed_words_as_array[~mask]\n",
    "  \n",
    "  labels = all_ipa_as_array[mask]\n",
    "  labels_test = all_ipa_as_array[~mask]\n",
    "\n",
    "  return inputs, labels, inputs_test, labels_test, mask\n",
    "\n",
    "inputs, labels, inputs_test, labels_test, mask = split_data_by_ratio(0.8, all_stressed_words_as_array, all_ipa_as_array)\n",
    "print(\"inputs\",inputs.shape)\n",
    "print(\"labels\",labels.shape)\n",
    "print(\"inputs_test\",inputs_test.shape)\n",
    "print(\"labels_test\",labels_test.shape)"
   ]
  },
  {
   "cell_type": "code",
   "execution_count": 124,
   "metadata": {
    "colab": {
     "base_uri": "https://localhost:8080/"
    },
    "executionInfo": {
     "elapsed": 9,
     "status": "ok",
     "timestamp": 1654105463994,
     "user": {
      "displayName": "Eugene Fedorovpro",
      "userId": "13090594731593342861"
     },
     "user_tz": -180
    },
    "id": "tAu_Fy1mTRB_",
    "outputId": "ede1661c-6cac-447c-85c7-60b1bd42c024"
   },
   "outputs": [
    {
     "name": "stdout",
     "output_type": "stream",
     "text": [
      "79557\n"
     ]
    }
   ],
   "source": [
    "indexes_of_test_items = list(np.where(mask == False)[0])\n",
    "print(len(indexes_of_test_items))"
   ]
  },
  {
   "cell_type": "markdown",
   "metadata": {
    "id": "FM_V4hdTmIRy"
   },
   "source": [
    "#Model"
   ]
  },
  {
   "cell_type": "code",
   "execution_count": 36,
   "metadata": {
    "colab": {
     "base_uri": "https://localhost:8080/"
    },
    "executionInfo": {
     "elapsed": 5,
     "status": "ok",
     "timestamp": 1654105463995,
     "user": {
      "displayName": "Eugene Fedorovpro",
      "userId": "13090594731593342861"
     },
     "user_tz": -180
    },
    "id": "2NoIDuyemMvZ",
    "outputId": "bdc2aa17-1629-4054-bc46-dd7c3a4ba4f0"
   },
   "outputs": [
    {
     "name": "stdout",
     "output_type": "stream",
     "text": [
      "lables.shape (317442, 34)\n",
      "inputs.shape (317442, 34)\n",
      "max_length_of_ipa 34\n",
      "max_length_of_word 34\n",
      "size_of_vocab 36\n",
      "no_classes 90\n"
     ]
    }
   ],
   "source": [
    "print(\"lables.shape\",labels.shape)\n",
    "print(\"inputs.shape\",inputs.shape)\n",
    "print(\"max_length_of_ipa\", max_length_of_ipa)\n",
    "print('max_length_of_word', max_length_of_stressed_word)\n",
    "size_of_vocab = len(number2character_for_stressed_words)+1 \n",
    "print(\"size_of_vocab\", size_of_vocab)\n",
    "no_classes = len(sign2number)+1 \n",
    "print(\"no_classes\", no_classes)"
   ]
  },
  {
   "cell_type": "code",
   "execution_count": 37,
   "metadata": {
    "executionInfo": {
     "elapsed": 319,
     "status": "ok",
     "timestamp": 1654105464310,
     "user": {
      "displayName": "Eugene Fedorovpro",
      "userId": "13090594731593342861"
     },
     "user_tz": -180
    },
    "id": "FNVW2Klqm38C"
   },
   "outputs": [],
   "source": [
    "def make_model_ipa():\n",
    "  #inputs_keras = keras.Input(shape = (34,1))\n",
    "  inputs_keras = keras.Input(shape = (inputs.shape[1],))\n",
    "\n",
    "  embd = tf.keras.layers.Embedding(size_of_vocab, 128)\n",
    "  x_embd = embd(inputs_keras)\n",
    "\n",
    "  rn = tf.keras.layers.Bidirectional(keras.layers.GRU(256, \n",
    "                                                      dropout=0.5, \n",
    "                                                      recurrent_dropout=0.2, \n",
    "                                                      return_sequences=True))\n",
    "  r_0 = rn(x_embd)\n",
    "\n",
    "  dns_1 = tf.keras.layers.TimeDistributed(keras.layers.Dense(512, activation=\"relu\"))\n",
    "  x = dns_1(r_0)\n",
    "\n",
    "  dns_2 = tf.keras.layers.TimeDistributed(keras.layers.Dense(no_classes, activation=\"softmax\"))\n",
    "  outputs = dns_2(x)\n",
    "  #print(\"outputs\", outputs.shape)\n",
    "\n",
    "  model_ipa = keras.Model(inputs = inputs_keras, outputs = outputs)\n",
    "  return model_ipa\n",
    "\n",
    "model_ipa = make_model_ipa() "
   ]
  },
  {
   "cell_type": "code",
   "execution_count": 38,
   "metadata": {
    "colab": {
     "base_uri": "https://localhost:8080/"
    },
    "executionInfo": {
     "elapsed": 10,
     "status": "ok",
     "timestamp": 1654105464310,
     "user": {
      "displayName": "Eugene Fedorovpro",
      "userId": "13090594731593342861"
     },
     "user_tz": -180
    },
    "id": "RB-vxCzLnWgy",
    "outputId": "06a413a5-40b9-44c2-f5d6-3527818110f9"
   },
   "outputs": [
    {
     "name": "stdout",
     "output_type": "stream",
     "text": [
      "Model: \"model\"\n",
      "_________________________________________________________________\n",
      " Layer (type)                Output Shape              Param #   \n",
      "=================================================================\n",
      " input_1 (InputLayer)        [(None, 34)]              0         \n",
      "                                                                 \n",
      " embedding (Embedding)       (None, 34, 128)           4608      \n",
      "                                                                 \n",
      " bidirectional (Bidirectiona  (None, 34, 512)          592896    \n",
      " l)                                                              \n",
      "                                                                 \n",
      " time_distributed (TimeDistr  (None, 34, 512)          262656    \n",
      " ibuted)                                                         \n",
      "                                                                 \n",
      " time_distributed_1 (TimeDis  (None, 34, 90)           46170     \n",
      " tributed)                                                       \n",
      "                                                                 \n",
      "=================================================================\n",
      "Total params: 906,330\n",
      "Trainable params: 906,330\n",
      "Non-trainable params: 0\n",
      "_________________________________________________________________\n"
     ]
    }
   ],
   "source": [
    "model_ipa.summary()"
   ]
  },
  {
   "cell_type": "code",
   "execution_count": null,
   "metadata": {
    "executionInfo": {
     "elapsed": 5,
     "status": "ok",
     "timestamp": 1654105464310,
     "user": {
      "displayName": "Eugene Fedorovpro",
      "userId": "13090594731593342861"
     },
     "user_tz": -180
    },
    "id": "mvAPYLcgnbDA"
   },
   "outputs": [],
   "source": [
    "filepath=\"checkpoint_word_stressed2IPA.hdf5\"\n",
    "#model.load_weights(filepath)"
   ]
  },
  {
   "cell_type": "code",
   "execution_count": 40,
   "metadata": {
    "executionInfo": {
     "elapsed": 6,
     "status": "ok",
     "timestamp": 1654105464311,
     "user": {
      "displayName": "Eugene Fedorovpro",
      "userId": "13090594731593342861"
     },
     "user_tz": -180
    },
    "id": "o1kaSwcnnjb-"
   },
   "outputs": [],
   "source": [
    "model_ipa.compile(loss = keras.losses.SparseCategoricalCrossentropy(), \n",
    "              optimizer = keras.optimizers.Adam(learning_rate=0.001),\n",
    "              metrics = \"accuracy\")"
   ]
  },
  {
   "cell_type": "code",
   "execution_count": 41,
   "metadata": {
    "executionInfo": {
     "elapsed": 5,
     "status": "ok",
     "timestamp": 1654105464311,
     "user": {
      "displayName": "Eugene Fedorovpro",
      "userId": "13090594731593342861"
     },
     "user_tz": -180
    },
    "id": "viLloklJnoUp"
   },
   "outputs": [],
   "source": [
    "#func to create checkpoint\n",
    "checkpoint = ModelCheckpoint(filepath, \n",
    "                             monitor='accuracy', \n",
    "                             verbose=1, \n",
    "                             save_best_only=True, \n",
    "                             mode='max')"
   ]
  },
  {
   "cell_type": "code",
   "execution_count": null,
   "metadata": {
    "executionInfo": {
     "elapsed": 5,
     "status": "ok",
     "timestamp": 1654105464311,
     "user": {
      "displayName": "Eugene Fedorovpro",
      "userId": "13090594731593342861"
     },
     "user_tz": -180
    },
    "id": "lSAAsM2PpQWN"
   },
   "outputs": [],
   "source": [
    "#model_ipa.load_weights(filepath)"
   ]
  },
  {
   "cell_type": "code",
   "execution_count": 43,
   "metadata": {
    "colab": {
     "base_uri": "https://localhost:8080/",
     "height": 70
    },
    "executionInfo": {
     "elapsed": 6,
     "status": "ok",
     "timestamp": 1654105464312,
     "user": {
      "displayName": "Eugene Fedorovpro",
      "userId": "13090594731593342861"
     },
     "user_tz": -180
    },
    "id": "iP1Mi-Ptnq73",
    "outputId": "6fde6e51-7ae4-40a9-fa52-59cc2c45cf30"
   },
   "outputs": [
    {
     "name": "stdout",
     "output_type": "stream",
     "text": [
      "Epoch 1/2\n",
      "311/311 [==============================] - ETA: 0s - loss: 0.6051 - accuracy: 0.8658\n",
      "Epoch 1: accuracy improved from -inf to 0.86577, saving model to checkpoint_word_stressed2IPA.hdf5\n",
      "311/311 [==============================] - 833s 3s/step - loss: 0.6051 - accuracy: 0.8658\n",
      "Epoch 2/2\n",
      "311/311 [==============================] - ETA: 0s - loss: 0.1076 - accuracy: 0.9740\n",
      "Epoch 2: accuracy improved from 0.86577 to 0.97402, saving model to checkpoint_word_stressed2IPA.hdf5\n",
      "311/311 [==============================] - 930s 3s/step - loss: 0.1076 - accuracy: 0.9740\n"
     ]
    }
   ],
   "source": [
    "#accuracy = 0.99975\n",
    "\n",
    "history = model_ipa.fit(inputs, labels, \n",
    "                    batch_size=1024, \n",
    "                    epochs=10, \n",
    "                    #validation_split=0.2, \n",
    "                    verbose=1, \n",
    "                    callbacks=[checkpoint],\n",
    "                    )\n"
   ]
  },
  {
   "cell_type": "code",
   "execution_count": 167,
   "metadata": {
    "executionInfo": {
     "elapsed": 6,
     "status": "ok",
     "timestamp": 1654105464312,
     "user": {
      "displayName": "Eugene Fedorovpro",
      "userId": "13090594731593342861"
     },
     "user_tz": -180
    },
    "id": "5BYI0rSMn2lK"
   },
   "outputs": [
    {
     "data": {
      "text/plain": [
       "WindowsPath('c:/Users/eugen/Documents/word2ipa_rus/word2ipa_rus/model_word2ipa_rus.h5')"
      ]
     },
     "execution_count": 167,
     "metadata": {},
     "output_type": "execute_result"
    }
   ],
   "source": [
    "#save entire model\n",
    "path_model = Path.cwd().parent / \"word2ipa_rus\" / \"model_word2ipa_rus.h5\"\n",
    "path_model\n",
    "\n",
    "\n",
    "# model_ipa.save(\"model_word2ipa_rus.h5\")"
   ]
  },
  {
   "cell_type": "markdown",
   "metadata": {
    "id": "6MAyJ2iuoB_O"
   },
   "source": [
    "#load model"
   ]
  },
  {
   "cell_type": "code",
   "execution_count": 168,
   "metadata": {
    "executionInfo": {
     "elapsed": 6424,
     "status": "ok",
     "timestamp": 1654105470731,
     "user": {
      "displayName": "Eugene Fedorovpro",
      "userId": "13090594731593342861"
     },
     "user_tz": -180
    },
    "id": "OkPRZlWVn-2j"
   },
   "outputs": [],
   "source": [
    "# load model\n",
    "# del model_ipa\n",
    "model_ipa = load_model(path_model)"
   ]
  },
  {
   "cell_type": "code",
   "execution_count": 47,
   "metadata": {},
   "outputs": [],
   "source": []
  },
  {
   "cell_type": "markdown",
   "metadata": {
    "id": "4Ad1W7lPqFTb"
   },
   "source": [
    "#Predict"
   ]
  },
  {
   "cell_type": "code",
   "execution_count": 49,
   "metadata": {
    "executionInfo": {
     "elapsed": 11,
     "status": "ok",
     "timestamp": 1654105470732,
     "user": {
      "displayName": "Eugene Fedorovpro",
      "userId": "13090594731593342861"
     },
     "user_tz": -180
    },
    "id": "sixyuGHdn_Af"
   },
   "outputs": [
    {
     "name": "stdout",
     "output_type": "stream",
     "text": [
      "2487/2487 [==============================] - 102s 41ms/step - loss: 0.0032 - accuracy: 0.9996\n"
     ]
    },
    {
     "data": {
      "text/plain": [
       "[0.0032051389571279287, 0.9996480345726013]"
      ]
     },
     "execution_count": 49,
     "metadata": {},
     "output_type": "execute_result"
    }
   ],
   "source": [
    "#accuracy = 0.9996\n",
    "model_ipa.evaluate(inputs_test, labels_test)"
   ]
  },
  {
   "cell_type": "code",
   "execution_count": 103,
   "metadata": {
    "executionInfo": {
     "elapsed": 10,
     "status": "ok",
     "timestamp": 1654105470732,
     "user": {
      "displayName": "Eugene Fedorovpro",
      "userId": "13090594731593342861"
     },
     "user_tz": -180
    },
    "id": "vl2BqGEtxg6c"
   },
   "outputs": [],
   "source": [
    "#func to convert word to IPA using model\n",
    "def word2IPA(word_stressed):\n",
    "\n",
    "  def make_array_from_word_for_model(word_stressed):\n",
    "    word_as_array = WordsProcessing.word2numbers(word_stressed)\n",
    "    word_as_array = np.array(word_as_array)  \n",
    "    word_as_array = word_as_array.reshape(1,word_as_array.shape[0])\n",
    "    predicted_array = model_ipa.predict(word_as_array, verbose=0)\n",
    "    predicted_array = predicted_array.reshape(labels.shape[1], no_classes) \n",
    "    return predicted_array\n",
    "  predicted_array = make_array_from_word_for_model(word_stressed)\n",
    "\n",
    "  def turn_predicted_array_to_transcription(predicted_array):\n",
    "    ipa_predicted = []\n",
    "    for position in predicted_array:\n",
    "      number = np.argmax(position)\n",
    "      if number !=0:\n",
    "        sign = number2sign[number]\n",
    "        ipa_predicted.append(str(sign)) \n",
    "    ipa_predicted = ''.join(ipa_predicted)\n",
    "    return ipa_predicted\n",
    "  ipa_predicted = turn_predicted_array_to_transcription(predicted_array)\n",
    "  \n",
    "  return ipa_predicted"
   ]
  },
  {
   "cell_type": "code",
   "execution_count": 104,
   "metadata": {
    "colab": {
     "base_uri": "https://localhost:8080/",
     "height": 35
    },
    "executionInfo": {
     "elapsed": 718,
     "status": "ok",
     "timestamp": 1654105471441,
     "user": {
      "displayName": "Eugene Fedorovpro",
      "userId": "13090594731593342861"
     },
     "user_tz": -180
    },
    "id": "dsBloyeqJGur",
    "outputId": "328434c8-5379-4f90-fa7c-1437d5837785"
   },
   "outputs": [
    {
     "data": {
      "text/plain": [
       "'t͡ɕɪlˠɐˈvʲek'"
      ]
     },
     "execution_count": 104,
     "metadata": {},
     "output_type": "execute_result"
    }
   ],
   "source": [
    "word2IPA(\"челове'к\")"
   ]
  },
  {
   "cell_type": "code",
   "execution_count": 114,
   "metadata": {
    "executionInfo": {
     "elapsed": 3,
     "status": "ok",
     "timestamp": 1654105471441,
     "user": {
      "displayName": "Eugene Fedorovpro",
      "userId": "13090594731593342861"
     },
     "user_tz": -180
    },
    "id": "qsAI2ZixJRkC"
   },
   "outputs": [],
   "source": [
    "def word2IPA_dict_comparison(word_stressed):\n",
    "  try: \n",
    "    ipa_predicted = word2IPA(word_stressed)\n",
    "  except:\n",
    "    ipa_predicted = word2IPA(word_stressed.lower())\n",
    "\n",
    "  try:\n",
    "    ipa_from_dict = find_item_from_wiki(word_stressed)[0].sounds\n",
    "  except IndexError:\n",
    "    ipa_from_dict = \"no word in dict\"\n",
    "\n",
    "  if ipa_from_dict == \"no word in dict\":\n",
    "    status = \"None\"\n",
    "  elif IPAString(unicode_string = ipa_predicted).is_equivalent(\n",
    "      IPAString(unicode_string = ipa_from_dict)):\n",
    "    status = \"True\"\n",
    "  else:\n",
    "    status = \"False\"\n",
    "  \n",
    "  # feedback = print(\"ipa_predicted {} \\n ipa_from_dict {} \\n status {}\".\n",
    "  #              format(ipa_predicted, ipa_from_dict, status))\n",
    "  feedback = (ipa_predicted, ipa_from_dict, status)\n",
    "  return feedback   "
   ]
  },
  {
   "cell_type": "code",
   "execution_count": 116,
   "metadata": {
    "colab": {
     "base_uri": "https://localhost:8080/"
    },
    "executionInfo": {
     "elapsed": 368,
     "status": "ok",
     "timestamp": 1654105471807,
     "user": {
      "displayName": "Eugene Fedorovpro",
      "userId": "13090594731593342861"
     },
     "user_tz": -180
    },
    "id": "PU2ocbReLqbj",
    "outputId": "51570c14-f127-4d15-9682-05f7285448ba"
   },
   "outputs": [
    {
     "data": {
      "text/plain": [
       "('məlˠɐˈko', 'məɫɐˈko', 'True')"
      ]
     },
     "execution_count": 116,
     "metadata": {},
     "output_type": "execute_result"
    }
   ],
   "source": [
    "word2IPA_dict_comparison(\"молоко'\")"
   ]
  },
  {
   "cell_type": "code",
   "execution_count": 134,
   "metadata": {
    "executionInfo": {
     "elapsed": 2,
     "status": "ok",
     "timestamp": 1654105471808,
     "user": {
      "displayName": "Eugene Fedorovpro",
      "userId": "13090594731593342861"
     },
     "user_tz": -180
    },
    "id": "rJGRmd_IN2kH"
   },
   "outputs": [],
   "source": [
    "def word_by_word_ipa_comparison(sample = 5, verbose = 1):\n",
    "  rand_numbers = random.sample(indexes_of_test_items, sample)\n",
    "  true_status = 0\n",
    "  n_items = 0\n",
    "\n",
    "  if verbose == 0:\n",
    "    for i, item in enumerate(wiki_instances): \n",
    "      if item.status and i in rand_numbers:\n",
    "        status = word2IPA_dict_comparison(item.accent)[2]\n",
    "        n_items += 1\n",
    "        if status:\n",
    "          true_status += 1\n",
    "\n",
    "  if verbose == 1:\n",
    "    for i, item in enumerate(wiki_instances): \n",
    "      if item.status and i in rand_numbers:\n",
    "        ipa_predicted, ipa_from_dict, status = word2IPA_dict_comparison(item.accent)\n",
    "        n_items += 1\n",
    "        print(\"ipa_predicted {} \\n ipa_from_dict {} \\n status {}\".\n",
    "              format(ipa_predicted, ipa_from_dict, status))\n",
    "        if status == \"True\":\n",
    "          true_status += 1\n",
    "\n",
    "  share_of_true = true_status/n_items\n",
    "  \n",
    "  return share_of_true"
   ]
  },
  {
   "cell_type": "code",
   "execution_count": 139,
   "metadata": {},
   "outputs": [
    {
     "name": "stdout",
     "output_type": "stream",
     "text": [
      "ipa_predicted prʲɪəbrɐˈʐɛnʲɪje \n",
      " ipa_from_dict prʲɪəbrɐˈʐɛnʲɪje \n",
      " status True\n",
      "ipa_predicted ˈvʲertʲɪtʲe \n",
      " ipa_from_dict ˈvʲertʲɪtʲe \n",
      " status True\n",
      "ipa_predicted sʲɪmʲɪˈstrunək \n",
      " ipa_from_dict sʲɪmʲɪˈstrunək \n",
      " status True\n",
      "ipa_predicted səsrʲɪdɐˈtot͡ɕɪvəjɪt \n",
      " ipa_from_dict səsrʲɪdɐˈtot͡ɕɪvəjɪt \n",
      " status True\n",
      "ipa_predicted ɡrɨˈzʲa \n",
      " ipa_from_dict ɡrɨˈzʲa \n",
      " status True\n"
     ]
    },
    {
     "data": {
      "text/plain": [
       "1.0"
      ]
     },
     "execution_count": 139,
     "metadata": {},
     "output_type": "execute_result"
    }
   ],
   "source": [
    "word_by_word_ipa_comparison(5,1)"
   ]
  },
  {
   "cell_type": "code",
   "execution_count": 141,
   "metadata": {
    "colab": {
     "base_uri": "https://localhost:8080/"
    },
    "executionInfo": {
     "elapsed": 231148,
     "status": "ok",
     "timestamp": 1654109492577,
     "user": {
      "displayName": "Eugene Fedorovpro",
      "userId": "13090594731593342861"
     },
     "user_tz": -180
    },
    "id": "Lta-LUtWZUxe",
    "outputId": "fe932ab2-acb9-4e5f-a348-1c7b4c5adf5f"
   },
   "outputs": [
    {
     "data": {
      "text/plain": [
       "1.0"
      ]
     },
     "execution_count": 141,
     "metadata": {},
     "output_type": "execute_result"
    }
   ],
   "source": [
    "word_by_word_ipa_comparison(1000,0)"
   ]
  }
 ],
 "metadata": {
  "colab": {
   "authorship_tag": "ABX9TyOXJkltPU62tZjF/ekAimXx",
   "collapsed_sections": [],
   "mount_file_id": "1-GohCIbI8MoM9GAFtpOGyeAcoQlc4CXB",
   "name": "03_stressed_word_2_ipa.ipynb",
   "provenance": [],
   "toc_visible": true
  },
  "kernelspec": {
   "display_name": "Python 3.10.5 ('venv_word2ipa': venv)",
   "language": "python",
   "name": "python3"
  },
  "language_info": {
   "codemirror_mode": {
    "name": "ipython",
    "version": 3
   },
   "file_extension": ".py",
   "mimetype": "text/x-python",
   "name": "python",
   "nbconvert_exporter": "python",
   "pygments_lexer": "ipython3",
   "version": "3.10.5"
  },
  "toc": {
   "base_numbering": 1,
   "nav_menu": {},
   "number_sections": true,
   "sideBar": true,
   "skip_h1_title": false,
   "title_cell": "Table of Contents",
   "title_sidebar": "Contents",
   "toc_cell": false,
   "toc_position": {},
   "toc_section_display": true,
   "toc_window_display": false
  },
  "varInspector": {
   "cols": {
    "lenName": 16,
    "lenType": 16,
    "lenVar": 40
   },
   "kernels_config": {
    "python": {
     "delete_cmd_postfix": "",
     "delete_cmd_prefix": "del ",
     "library": "var_list.py",
     "varRefreshCmd": "print(var_dic_list())"
    },
    "r": {
     "delete_cmd_postfix": ") ",
     "delete_cmd_prefix": "rm(",
     "library": "var_list.r",
     "varRefreshCmd": "cat(var_dic_list()) "
    }
   },
   "types_to_exclude": [
    "module",
    "function",
    "builtin_function_or_method",
    "instance",
    "_Feature"
   ],
   "window_display": false
  },
  "vscode": {
   "interpreter": {
    "hash": "8e0beddd6e8f418038e639e8694849e2b890fc257ff6ed581a0b1636527e447f"
   }
  }
 },
 "nbformat": 4,
 "nbformat_minor": 1
}
